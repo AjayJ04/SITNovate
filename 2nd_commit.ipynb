{
  "nbformat": 4,
  "nbformat_minor": 0,
  "metadata": {
    "colab": {
      "provenance": []
    },
    "kernelspec": {
      "name": "python3",
      "display_name": "Python 3"
    },
    "language_info": {
      "name": "python"
    }
  },
  "cells": [
    {
      "cell_type": "code",
      "source": [
        "import pandas as pd\n",
        "import json\n",
        "\n",
        "# Load JSON file, handling multiple objects or lines\n",
        "try:\n",
        "    # Attempt to read as a single object\n",
        "    with open(\"/content/AMAZON_FASHION_5.json\", 'r') as f:\n",
        "        df = pd.DataFrame([json.loads(line) for line in f])  # If file has one JSON object per line\n",
        "except json.JSONDecodeError:\n",
        "    # If that fails, try reading as a list of objects\n",
        "    with open(\"/content/AMAZON_FASHION_5.json\", 'r') as f:\n",
        "        data = json.load(f)\n",
        "        df = pd.DataFrame(data)\n",
        "except (TypeError, ValueError):\n",
        "    # If that also fails, handle malformed JSON\n",
        "    with open(\"/content/AMAZON_FASHION_5.json\", 'r') as f:\n",
        "        content = f.read()\n",
        "        content = re.sub(r'\\s+', '', content)  # Remove whitespace, line breaks, tabs\n",
        "        content = re.sub(r'}{', '}, {', content[1:-1])  # Split to valid JSON objects\n",
        "        df = pd.read_json(\"[\" + content + \"]\", orient=\"records\")\n",
        "\n",
        "\n",
        "\n",
        "# Save as CSV\n",
        "df.to_csv(\"AMAZON_FASHION_5.csv\", index=False)\n",
        "\n",
        "print(\"Conversion complete! File saved as output.csv\")"
      ],
      "metadata": {
        "colab": {
          "base_uri": "https://localhost:8080/"
        },
        "id": "Ixh_fuEihXG5",
        "outputId": "68d89aeb-a5a8-471e-828b-23a565ec5cc1"
      },
      "execution_count": 1,
      "outputs": [
        {
          "output_type": "stream",
          "name": "stdout",
          "text": [
            "Conversion complete! File saved as output.csv\n"
          ]
        }
      ]
    },
    {
      "cell_type": "code",
      "source": [
        "import nltk\n",
        "\n",
        "# Force download of missing resources\n",
        "nltk.download('punkt')\n",
        "nltk.download('stopwords')\n",
        "nltk.download('averaged_perceptron_tagger')\n",
        "nltk.download('omw-1.4')  # Needed for some NLP tasks\n",
        "\n",
        "# Manually delete and redownload 'punkt' to fix corruption\n",
        "import shutil\n",
        "nltk.data.path.append(\"/usr/local/nltk_data/\")  # Ensure path is correct\n",
        "\n",
        "punkt_path = nltk.data.find(\"tokenizers/punkt\")\n",
        "shutil.rmtree(punkt_path)  # Delete corrupted file\n",
        "nltk.download('punkt')  # Re-download\n"
      ],
      "metadata": {
        "colab": {
          "base_uri": "https://localhost:8080/"
        },
        "id": "7lWmjCx2iiSn",
        "outputId": "44b8aa22-18d9-4dd2-ae6f-b7b9ba2630e8"
      },
      "execution_count": 11,
      "outputs": [
        {
          "output_type": "stream",
          "name": "stderr",
          "text": [
            "[nltk_data] Downloading package punkt to /root/nltk_data...\n",
            "[nltk_data]   Package punkt is already up-to-date!\n",
            "[nltk_data] Downloading package stopwords to /root/nltk_data...\n",
            "[nltk_data]   Package stopwords is already up-to-date!\n",
            "[nltk_data] Downloading package averaged_perceptron_tagger to\n",
            "[nltk_data]     /root/nltk_data...\n",
            "[nltk_data]   Package averaged_perceptron_tagger is already up-to-\n",
            "[nltk_data]       date!\n",
            "[nltk_data] Downloading package omw-1.4 to /root/nltk_data...\n",
            "[nltk_data] Downloading package punkt to /root/nltk_data...\n",
            "[nltk_data]   Package punkt is already up-to-date!\n"
          ]
        },
        {
          "output_type": "execute_result",
          "data": {
            "text/plain": [
              "True"
            ]
          },
          "metadata": {},
          "execution_count": 11
        }
      ]
    },
    {
      "cell_type": "code",
      "source": [
        "import nltk\n",
        "import shutil\n",
        "\n",
        "# Remove corrupted NLTK files\n",
        "nltk_path = nltk.data.find(\"tokenizers/punkt\")\n",
        "shutil.rmtree(nltk_path)\n",
        "\n",
        "# Redownload 'punkt'\n",
        "nltk.download('punkt')\n"
      ],
      "metadata": {
        "colab": {
          "base_uri": "https://localhost:8080/",
          "height": 714
        },
        "id": "QD_nXLcLmg3L",
        "outputId": "65c7d68a-cd62-49fa-aeca-9068d354e375"
      },
      "execution_count": 13,
      "outputs": [
        {
          "output_type": "error",
          "ename": "LookupError",
          "evalue": "\n**********************************************************************\n  Resource \u001b[93mpunkt\u001b[0m not found.\n  Please use the NLTK Downloader to obtain the resource:\n\n  \u001b[31m>>> import nltk\n  >>> nltk.download('punkt')\n  \u001b[0m\n  For more information see: https://www.nltk.org/data.html\n\n  Attempted to load \u001b[93mtokenizers/punkt\u001b[0m\n\n  Searched in:\n    - '/root/nltk_data'\n    - '/usr/nltk_data'\n    - '/usr/share/nltk_data'\n    - '/usr/lib/nltk_data'\n    - '/usr/share/nltk_data'\n    - '/usr/local/share/nltk_data'\n    - '/usr/lib/nltk_data'\n    - '/usr/local/lib/nltk_data'\n    - '/usr/local/nltk_data/'\n**********************************************************************\n",
          "traceback": [
            "\u001b[0;31m---------------------------------------------------------------------------\u001b[0m",
            "\u001b[0;31mLookupError\u001b[0m                               Traceback (most recent call last)",
            "\u001b[0;32m<ipython-input-13-1dec2452a255>\u001b[0m in \u001b[0;36m<cell line: 0>\u001b[0;34m()\u001b[0m\n\u001b[1;32m      3\u001b[0m \u001b[0;34m\u001b[0m\u001b[0m\n\u001b[1;32m      4\u001b[0m \u001b[0;31m# Remove corrupted NLTK files\u001b[0m\u001b[0;34m\u001b[0m\u001b[0;34m\u001b[0m\u001b[0m\n\u001b[0;32m----> 5\u001b[0;31m \u001b[0mnltk_path\u001b[0m \u001b[0;34m=\u001b[0m \u001b[0mnltk\u001b[0m\u001b[0;34m.\u001b[0m\u001b[0mdata\u001b[0m\u001b[0;34m.\u001b[0m\u001b[0mfind\u001b[0m\u001b[0;34m(\u001b[0m\u001b[0;34m\"tokenizers/punkt\"\u001b[0m\u001b[0;34m)\u001b[0m\u001b[0;34m\u001b[0m\u001b[0;34m\u001b[0m\u001b[0m\n\u001b[0m\u001b[1;32m      6\u001b[0m \u001b[0mshutil\u001b[0m\u001b[0;34m.\u001b[0m\u001b[0mrmtree\u001b[0m\u001b[0;34m(\u001b[0m\u001b[0mnltk_path\u001b[0m\u001b[0;34m)\u001b[0m\u001b[0;34m\u001b[0m\u001b[0;34m\u001b[0m\u001b[0m\n\u001b[1;32m      7\u001b[0m \u001b[0;34m\u001b[0m\u001b[0m\n",
            "\u001b[0;32m/usr/local/lib/python3.11/dist-packages/nltk/data.py\u001b[0m in \u001b[0;36mfind\u001b[0;34m(resource_name, paths)\u001b[0m\n\u001b[1;32m    577\u001b[0m     \u001b[0msep\u001b[0m \u001b[0;34m=\u001b[0m \u001b[0;34m\"*\"\u001b[0m \u001b[0;34m*\u001b[0m \u001b[0;36m70\u001b[0m\u001b[0;34m\u001b[0m\u001b[0;34m\u001b[0m\u001b[0m\n\u001b[1;32m    578\u001b[0m     \u001b[0mresource_not_found\u001b[0m \u001b[0;34m=\u001b[0m \u001b[0;34mf\"\\n{sep}\\n{msg}\\n{sep}\\n\"\u001b[0m\u001b[0;34m\u001b[0m\u001b[0;34m\u001b[0m\u001b[0m\n\u001b[0;32m--> 579\u001b[0;31m     \u001b[0;32mraise\u001b[0m \u001b[0mLookupError\u001b[0m\u001b[0;34m(\u001b[0m\u001b[0mresource_not_found\u001b[0m\u001b[0;34m)\u001b[0m\u001b[0;34m\u001b[0m\u001b[0;34m\u001b[0m\u001b[0m\n\u001b[0m\u001b[1;32m    580\u001b[0m \u001b[0;34m\u001b[0m\u001b[0m\n\u001b[1;32m    581\u001b[0m \u001b[0;34m\u001b[0m\u001b[0m\n",
            "\u001b[0;31mLookupError\u001b[0m: \n**********************************************************************\n  Resource \u001b[93mpunkt\u001b[0m not found.\n  Please use the NLTK Downloader to obtain the resource:\n\n  \u001b[31m>>> import nltk\n  >>> nltk.download('punkt')\n  \u001b[0m\n  For more information see: https://www.nltk.org/data.html\n\n  Attempted to load \u001b[93mtokenizers/punkt\u001b[0m\n\n  Searched in:\n    - '/root/nltk_data'\n    - '/usr/nltk_data'\n    - '/usr/share/nltk_data'\n    - '/usr/lib/nltk_data'\n    - '/usr/share/nltk_data'\n    - '/usr/local/share/nltk_data'\n    - '/usr/lib/nltk_data'\n    - '/usr/local/lib/nltk_data'\n    - '/usr/local/nltk_data/'\n**********************************************************************\n"
          ]
        }
      ]
    },
    {
      "cell_type": "code",
      "source": [
        "!pip install nltk\n",
        "import nltk\n",
        "import shutil\n",
        "\n",
        "# Download 'punkt' if not already present:\n",
        "try:\n",
        "    nltk.data.find(\"tokenizers/punkt\")\n",
        "except LookupError:\n",
        "    nltk.download('punkt')\n",
        "    print(\"Downloaded 'punkt' data.\")\n",
        "else:\n",
        "    print(\"'punkt' data already present.\")\n",
        "\n",
        "\n",
        "# Rest of the code where you use 'punkt' (e.g., word_tokenize)"
      ],
      "metadata": {
        "colab": {
          "base_uri": "https://localhost:8080/"
        },
        "id": "mKZi1PtOnCjw",
        "outputId": "f0a3850c-5203-4dfc-9d7f-2e5adadbba4e"
      },
      "execution_count": 14,
      "outputs": [
        {
          "output_type": "stream",
          "name": "stdout",
          "text": [
            "Requirement already satisfied: nltk in /usr/local/lib/python3.11/dist-packages (3.9.1)\n",
            "Requirement already satisfied: click in /usr/local/lib/python3.11/dist-packages (from nltk) (8.1.8)\n",
            "Requirement already satisfied: joblib in /usr/local/lib/python3.11/dist-packages (from nltk) (1.4.2)\n",
            "Requirement already satisfied: regex>=2021.8.3 in /usr/local/lib/python3.11/dist-packages (from nltk) (2024.11.6)\n",
            "Requirement already satisfied: tqdm in /usr/local/lib/python3.11/dist-packages (from nltk) (4.67.1)\n",
            "Downloaded 'punkt' data.\n"
          ]
        },
        {
          "output_type": "stream",
          "name": "stderr",
          "text": [
            "[nltk_data] Downloading package punkt to /root/nltk_data...\n",
            "[nltk_data]   Package punkt is already up-to-date!\n"
          ]
        }
      ]
    },
    {
      "cell_type": "code",
      "source": [],
      "metadata": {
        "id": "Cqgzv-lNnQXd"
      },
      "execution_count": null,
      "outputs": []
    },
    {
      "cell_type": "code",
      "source": [
        "import nltk\n",
        "import shutil\n",
        "\n",
        "# Download 'punkt_tab' if not already present:\n",
        "try:\n",
        "    nltk.data.find(\"tokenizers/punkt_tab\")\n",
        "except LookupError:\n",
        "    nltk.download('punkt_tab')\n",
        "    print(\"Downloaded 'punkt_tab' data.\")\n",
        "else:\n",
        "    print(\"'punkt_tab' data already present.\")\n",
        "\n",
        "# ... (Rest of your code) ..."
      ],
      "metadata": {
        "colab": {
          "base_uri": "https://localhost:8080/"
        },
        "id": "tI_YWJnQpzE-",
        "outputId": "8271e04f-8cdf-4b62-8277-3c5331020455"
      },
      "execution_count": 17,
      "outputs": [
        {
          "output_type": "stream",
          "name": "stdout",
          "text": [
            "Downloaded 'punkt_tab' data.\n"
          ]
        },
        {
          "output_type": "stream",
          "name": "stderr",
          "text": [
            "[nltk_data] Downloading package punkt_tab to /root/nltk_data...\n",
            "[nltk_data]   Unzipping tokenizers/punkt_tab.zip.\n"
          ]
        }
      ]
    },
    {
      "cell_type": "code",
      "execution_count": 19,
      "metadata": {
        "colab": {
          "base_uri": "https://localhost:8080/"
        },
        "id": "YmAgH15nfk_1",
        "outputId": "42aa002b-a762-44b8-c97d-727d0662a8dc"
      },
      "outputs": [
        {
          "output_type": "stream",
          "name": "stderr",
          "text": [
            "[nltk_data] Downloading package punkt to /root/nltk_data...\n",
            "[nltk_data]   Package punkt is already up-to-date!\n",
            "[nltk_data] Downloading package stopwords to /root/nltk_data...\n",
            "[nltk_data]   Package stopwords is already up-to-date!\n",
            "[nltk_data] Downloading package averaged_perceptron_tagger to\n",
            "[nltk_data]     /root/nltk_data...\n",
            "[nltk_data]   Package averaged_perceptron_tagger is already up-to-\n",
            "[nltk_data]       date!\n",
            "[nltk_data] Downloading package averaged_perceptron_tagger_eng to\n",
            "[nltk_data]     /root/nltk_data...\n",
            "[nltk_data]   Unzipping taggers/averaged_perceptron_tagger_eng.zip.\n"
          ]
        },
        {
          "output_type": "stream",
          "name": "stdout",
          "text": [
            "Analysis complete!\n",
            "\n",
            "Sentiment Distribution:\n",
            "{'positive': 0.871536523929471, 'neutral': 0.06108312342569269, 'negative': 0.06738035264483627}\n",
            "\n",
            "Most Common Topics:\n",
            "{'shoes': 1302, 'size': 644, 'shoe': 600, 'fit': 462, 'feet': 459, 'love': 433, 'pair': 300, 'support': 292, 'day': 233, 'time': 225}\n"
          ]
        }
      ],
      "source": [
        "import pandas as pd\n",
        "import numpy as np\n",
        "from textblob import TextBlob\n",
        "from datetime import datetime, timedelta\n",
        "import re\n",
        "from collections import defaultdict\n",
        "import nltk\n",
        "from nltk.tokenize import word_tokenize\n",
        "from nltk.corpus import stopwords\n",
        "from wordcloud import WordCloud\n",
        "\n",
        "class SentimentAnalyzer:\n",
        "    def __init__(self):\n",
        "        # Download required NLTK data\n",
        "        nltk.download('punkt')\n",
        "        nltk.download('stopwords')\n",
        "        nltk.download('averaged_perceptron_tagger')\n",
        "        # Download the missing resource\n",
        "        nltk.download('averaged_perceptron_tagger_eng')\n",
        "\n",
        "        self.stop_words = set(stopwords.words('english'))\n",
        "\n",
        "    def clean_text(self, text):\n",
        "        \"\"\"Clean and preprocess text data\"\"\"\n",
        "        if isinstance(text, str):\n",
        "            # Convert to lowercase\n",
        "            text = text.lower()\n",
        "            # Remove special characters and digits\n",
        "            text = re.sub(r'[^a-zA-Z\\s]', '', text)\n",
        "            # Remove extra whitespace\n",
        "            text = ' '.join(text.split())\n",
        "            return text\n",
        "        return ''\n",
        "\n",
        "    def analyze_sentiment(self, text):\n",
        "        \"\"\"Analyze sentiment of given text\"\"\"\n",
        "        cleaned_text = self.clean_text(text)\n",
        "        blob = TextBlob(cleaned_text)\n",
        "\n",
        "        # Get sentiment scores\n",
        "        polarity = blob.sentiment.polarity\n",
        "        subjectivity = blob.sentiment.subjectivity\n",
        "\n",
        "        # Determine sentiment category\n",
        "        if polarity > 0:\n",
        "            sentiment = 'positive'\n",
        "        elif polarity < 0:\n",
        "            sentiment = 'negative'\n",
        "        else:\n",
        "            sentiment = 'neutral'\n",
        "\n",
        "        return {\n",
        "            'polarity': polarity,\n",
        "            'subjectivity': subjectivity,\n",
        "            'sentiment': sentiment\n",
        "        }\n",
        "\n",
        "    def extract_features(self, text):\n",
        "        \"\"\"Extract key features and topics from text\"\"\"\n",
        "        cleaned_text = self.clean_text(text)\n",
        "        tokens = word_tokenize(cleaned_text)\n",
        "\n",
        "        # Remove stopwords and short words\n",
        "        words = [word for word in tokens if word not in self.stop_words and len(word) > 2]\n",
        "\n",
        "        # Get parts of speech\n",
        "        pos_tags = nltk.pos_tag(words)\n",
        "\n",
        "        # Extract nouns (potential topics)\n",
        "        topics = [word for word, pos in pos_tags if pos.startswith('NN')]\n",
        "\n",
        "        return {\n",
        "            'topics': topics,\n",
        "            'word_count': len(tokens)\n",
        "        }\n",
        "\n",
        "    def analyze_feedback(self, feedback_data):\n",
        "        \"\"\"Process batch of feedback data\"\"\"\n",
        "        results = []\n",
        "\n",
        "        for idx, row in feedback_data.iterrows():\n",
        "            text = row['text']\n",
        "            timestamp = row.get('timestamp', datetime.now())\n",
        "\n",
        "            # Get sentiment analysis\n",
        "            sentiment_results = self.analyze_sentiment(text)\n",
        "\n",
        "            # Get feature extraction\n",
        "            feature_results = self.extract_features(text)\n",
        "\n",
        "            # Combine results\n",
        "            analysis = {\n",
        "                'text': text,\n",
        "                'timestamp': timestamp,\n",
        "                **sentiment_results,\n",
        "                **feature_results\n",
        "            }\n",
        "\n",
        "            results.append(analysis)\n",
        "\n",
        "        return pd.DataFrame(results)\n",
        "\n",
        "    def generate_insights(self, analyzed_data):\n",
        "        \"\"\"Generate insights from analyzed data\"\"\"\n",
        "        insights = {\n",
        "            'overall_sentiment': {\n",
        "                'positive': len(analyzed_data[analyzed_data['sentiment'] == 'positive']) / len(analyzed_data),\n",
        "                'neutral': len(analyzed_data[analyzed_data['sentiment'] == 'neutral']) / len(analyzed_data),\n",
        "                'negative': len(analyzed_data[analyzed_data['sentiment'] == 'negative']) / len(analyzed_data)\n",
        "            },\n",
        "            'average_polarity': analyzed_data['polarity'].mean(),\n",
        "            'average_subjectivity': analyzed_data['subjectivity'].mean(),\n",
        "            'common_topics': self.get_common_topics(analyzed_data),\n",
        "            'sentiment_trend': self.calculate_sentiment_trend(analyzed_data)\n",
        "        }\n",
        "\n",
        "        return insights\n",
        "\n",
        "    def get_common_topics(self, analyzed_data, top_n=10):\n",
        "        \"\"\"Extract most common topics\"\"\"\n",
        "        topic_counts = defaultdict(int)\n",
        "\n",
        "        for topics in analyzed_data['topics']:\n",
        "            for topic in topics:\n",
        "                topic_counts[topic] += 1\n",
        "\n",
        "        return dict(sorted(topic_counts.items(), key=lambda x: x[1], reverse=True)[:top_n])\n",
        "\n",
        "    def calculate_sentiment_trend(self, analyzed_data):\n",
        "        \"\"\"Calculate sentiment trends over time\"\"\"\n",
        "        analyzed_data = analyzed_data.sort_values('timestamp')\n",
        "        analyzed_data.set_index('timestamp', inplace=True)\n",
        "\n",
        "        # Resample by day and calculate mean polarity\n",
        "        daily_sentiment = analyzed_data['polarity'].resample('D').mean()\n",
        "\n",
        "        return daily_sentiment.to_dict()\n",
        "\n",
        "# Example usage\n",
        "if __name__ == \"__main__\":\n",
        "\n",
        "    dataset_path = \"/content/AMAZON_FASHION_5.csv\"\n",
        "\n",
        "    feedback_data = pd.read_csv(dataset_path)\n",
        "\n",
        "    if 'reviewText' in feedback_data.columns:\n",
        "        feedback_data = feedback_data.rename(columns={'reviewText': 'text'})\n",
        "    else:\n",
        "        potential_text_columns = ['review_text', 'comment', 'feedback']\n",
        "        for col in potential_text_columns:\n",
        "            if col in feedback_data.columns:\n",
        "                feedback_data = feedback_data.rename(columns={col: 'text'})\n",
        "                break\n",
        "        else:\n",
        "            raise KeyError(\"No suitable text column found in the dataset. \"\n",
        "                           \"Please ensure your dataset has a column containing text data \"\n",
        "                           \"and rename it to 'text' or update the code to use the correct column name.\")\n",
        "\n",
        "\n",
        "    # Initialize analyzer\n",
        "    analyzer = SentimentAnalyzer()\n",
        "\n",
        "    # Process the dataset\n",
        "    results = analyzer.analyze_feedback(feedback_data)\n",
        "\n",
        "    # Generate insights\n",
        "    insights = analyzer.generate_insights(results)\n",
        "\n",
        "    # Print results\n",
        "    print(\"Analysis complete!\")\n",
        "    print(\"\\nSentiment Distribution:\")\n",
        "    print(insights['overall_sentiment'])\n",
        "    print(\"\\nMost Common Topics:\")\n",
        "    print(insights['common_topics'])\n",
        "\n"
      ]
    },
    {
      "cell_type": "code",
      "source": [
        "import matplotlib.pyplot as plt\n",
        "\n",
        "# Extract sentiment counts\n",
        "sentiment_labels = ['Positive', 'Neutral', 'Negative']\n",
        "sentiment_values = [\n",
        "    insights['overall_sentiment']['positive'],\n",
        "    insights['overall_sentiment']['neutral'],\n",
        "    insights['overall_sentiment']['negative']\n",
        "]\n",
        "\n",
        "# Plot\n",
        "plt.figure(figsize=(6, 6))\n",
        "plt.pie(sentiment_values, labels=sentiment_labels, autopct='%1.1f%%', colors=['green', 'gray', 'red'])\n",
        "plt.title(\"Sentiment Distribution of Customer Feedback\")\n",
        "plt.show()\n"
      ],
      "metadata": {
        "colab": {
          "base_uri": "https://localhost:8080/",
          "height": 521
        },
        "id": "UAk68Xb_p9t_",
        "outputId": "9fbe8971-a0a9-4f69-8dba-735afa0b3977"
      },
      "execution_count": 20,
      "outputs": [
        {
          "output_type": "display_data",
          "data": {
            "text/plain": [
              "<Figure size 600x600 with 1 Axes>"
            ],
            "image/png": "[encoded data removed]"
          },
          "metadata": {}
        }
      ]
    },
    {
      "cell_type": "code",
      "source": [
        "# Extract topics and counts\n",
        "topics = list(insights['common_topics'].keys())\n",
        "counts = list(insights['common_topics'].values())\n",
        "\n",
        "# Plot\n",
        "plt.figure(figsize=(10, 5))\n",
        "plt.barh(topics, counts, color='blue')\n",
        "plt.xlabel(\"Frequency\")\n",
        "plt.ylabel(\"Topics\")\n",
        "plt.title(\"Most Common Topics in Feedback\")\n",
        "plt.gca().invert_yaxis()  # Invert for better readability\n",
        "plt.show()\n"
      ],
      "metadata": {
        "colab": {
          "base_uri": "https://localhost:8080/",
          "height": 487
        },
        "id": "Bx8sb7F3tYm0",
        "outputId": "bcc103ff-5141-4e4b-8f4f-c5ac6419465e"
      },
      "execution_count": 21,
      "outputs": [
        {
          "output_type": "display_data",
          "data": {
            "text/plain": [
              "<Figure size 1000x500 with 1 Axes>"
            ],
            "image/png": "[encoded data removed]"
          },
          "metadata": {}
        }
      ]
    },
    {
      "cell_type": "code",
      "source": [
        "# Extract sentiment trend data\n",
        "sentiment_trend = insights['sentiment_trend']\n",
        "\n",
        "# Convert dictionary to DataFrame for plotting\n",
        "trend_df = pd.DataFrame(sentiment_trend.items(), columns=['Date', 'Average Sentiment'])\n",
        "trend_df['Date'] = pd.to_datetime(trend_df['Date'])\n",
        "trend_df.set_index('Date', inplace=True)\n",
        "\n",
        "# Plot time-series trend\n",
        "plt.figure(figsize=(10, 5))\n",
        "plt.plot(trend_df.index, trend_df['Average Sentiment'], marker='o', linestyle='-')\n",
        "plt.xlabel(\"Date\")\n",
        "plt.ylabel(\"Average Sentiment (Polarity)\")\n",
        "plt.title(\"Sentiment Trend Over Time\")\n",
        "plt.grid()\n",
        "plt.show()\n"
      ],
      "metadata": {
        "colab": {
          "base_uri": "https://localhost:8080/",
          "height": 487
        },
        "id": "F-UziSo-tc-Z",
        "outputId": "45e3bf16-0b80-423a-a04d-bace632b70d7"
      },
      "execution_count": 22,
      "outputs": [
        {
          "output_type": "display_data",
          "data": {
            "text/plain": [
              "<Figure size 1000x500 with 1 Axes>"
            ],
            "image/png": "[encoded data removed]"
          },
          "metadata": {}
        }
      ]
    },
    {
      "cell_type": "code",
      "source": [
        "import pandas as pd\n",
        "\n",
        "# List of file paths\n",
        "file_paths = [\n",
        "    \"/content/AMAZON_FASHION_5.csv\",\n",
        "    \"/content/socialmedia-disaster-tweets-DFE.csv\",\n",
        "    \"/content/Instagram - Posts.csv\",\n",
        "    \"/content/Instagram - Reels.csv\",\n",
        "    \"/content/sentimentdataset.csv\",\n",
        "    \"/content/twitter_training.csv\",\n",
        "    \"/content/Dataset.xlsx\",\n",
        "    \"/content/Twitter+data+in+sheets.xlsx\"\n",
        "]\n",
        "\n",
        "# Initialize an empty list to store DataFrames\n",
        "dfs = []\n",
        "\n",
        "# Load CSV files\n",
        "for file in file_paths[:-2]:  # The last two files are Excel files\n",
        "    try:\n",
        "        df = pd.read_csv(file, encoding=\"utf-8\")\n",
        "        dfs.append(df)\n",
        "    except Exception as e:\n",
        "        print(f\"Error loading {file}: {e}\")\n",
        "\n",
        "# Load Excel files\n",
        "for file in file_paths[-2:]:  # Last two files are Excel\n",
        "    try:\n",
        "        xls = pd.ExcelFile(file)\n",
        "        for sheet_name in xls.sheet_names:\n",
        "            df = pd.read_excel(xls, sheet_name=sheet_name)\n",
        "            dfs.append(df)\n",
        "    except Exception as e:\n",
        "        print(f\"Error loading {file}: {e}\")\n",
        "\n",
        "# Standardize column names\n",
        "for df in dfs:\n",
        "    df.columns = df.columns.str.lower().str.replace(\" \", \"_\")  # Normalize column names\n",
        "    text_columns = [col for col in df.columns if \"text\" in col or \"comment\" in col or \"review\" in col]\n",
        "    if text_columns:\n",
        "        df[\"text\"] = df[text_columns[0]]  # Use the first matching column\n",
        "    else:\n",
        "        df[\"text\"] = None  # If no text column is found, add an empty one\n",
        "\n",
        "# Merge all DataFrames into one\n",
        "combined_df = pd.concat(dfs, ignore_index=True, sort=False)\n",
        "\n",
        "# Keep only relevant columns\n",
        "combined_df = combined_df[[\"text\"]].dropna().reset_index(drop=True)\n",
        "\n",
        "# Save the merged dataset\n",
        "combined_df.to_csv(\"combined_sentiment_dataset.csv\", index=False, encoding=\"utf-8\")\n",
        "\n",
        "print(\"Merged dataset saved as 'combined_sentiment_dataset.csv'\")\n"
      ],
      "metadata": {
        "colab": {
          "base_uri": "https://localhost:8080/"
        },
        "id": "QZTmAIVuth9F",
        "outputId": "c275c441-0754-4002-b4cd-566998d962c4"
      },
      "execution_count": 2,
      "outputs": [
        {
          "output_type": "stream",
          "name": "stdout",
          "text": [
            "Error loading /content/socialmedia-disaster-tweets-DFE.csv: 'utf-8' codec can't decode byte 0xcc in position 11: invalid continuation byte\n",
            "Merged dataset saved as 'combined_sentiment_dataset.csv'\n"
          ]
        }
      ]
    },
    {
      "cell_type": "code",
      "source": [
        "import pandas as pd\n",
        "\n",
        "df = pd.read_csv(\"combined_sentiment_dataset.csv\")\n",
        "df.head()"
      ],
      "metadata": {
        "colab": {
          "base_uri": "https://localhost:8080/",
          "height": 206
        },
        "id": "KfqOunBzUq0d",
        "outputId": "0c58c6ce-1955-49b6-c3e9-22ccd101d49a"
      },
      "execution_count": 6,
      "outputs": [
        {
          "output_type": "execute_result",
          "data": {
            "text/plain": [
              "                       text\n",
              "0  Great product and price!\n",
              "1  Great product and price!\n",
              "2  Great product and price!\n",
              "3  Great product and price!\n",
              "4  Great product and price!"
            ],
            "text/html": [
              "\n",
              "  <div id=\"df-0c77140f-68b8-43cb-b2c0-d2de883c7ae5\" class=\"colab-df-container\">\n",
              "    <div>\n",
              "<style scoped>\n",
              "    .dataframe tbody tr th:only-of-type {\n",
              "        vertical-align: middle;\n",
              "    }\n",
              "\n",
              "    .dataframe tbody tr th {\n",
              "        vertical-align: top;\n",
              "    }\n",
              "\n",
              "    .dataframe thead th {\n",
              "        text-align: right;\n",
              "    }\n",
              "</style>\n",
              "<table border=\"1\" class=\"dataframe\">\n",
              "  <thead>\n",
              "    <tr style=\"text-align: right;\">\n",
              "      <th></th>\n",
              "      <th>text</th>\n",
              "    </tr>\n",
              "  </thead>\n",
              "  <tbody>\n",
              "    <tr>\n",
              "      <th>0</th>\n",
              "      <td>Great product and price!</td>\n",
              "    </tr>\n",
              "    <tr>\n",
              "      <th>1</th>\n",
              "      <td>Great product and price!</td>\n",
              "    </tr>\n",
              "    <tr>\n",
              "      <th>2</th>\n",
              "      <td>Great product and price!</td>\n",
              "    </tr>\n",
              "    <tr>\n",
              "      <th>3</th>\n",
              "      <td>Great product and price!</td>\n",
              "    </tr>\n",
              "    <tr>\n",
              "      <th>4</th>\n",
              "      <td>Great product and price!</td>\n",
              "    </tr>\n",
              "  </tbody>\n",
              "</table>\n",
              "</div>\n",
              "    <div class=\"colab-df-buttons\">\n",
              "\n",
              "  <div class=\"colab-df-container\">\n",
              "    <button class=\"colab-df-convert\" onclick=\"convertToInteractive('df-0c77140f-68b8-43cb-b2c0-d2de883c7ae5')\"\n",
              "            title=\"Convert this dataframe to an interactive table.\"\n",
              "            style=\"display:none;\">\n",
              "\n",
              "  <svg xmlns=\"http://www.w3.org/2000/svg\" height=\"24px\" viewBox=\"0 -960 960 960\">\n",
              "    <path d=\"M120-120v-720h720v720H120Zm60-500h600v-160H180v160Zm220 220h160v-160H400v160Zm0 220h160v-160H400v160ZM180-400h160v-160H180v160Zm440 0h160v-160H620v160ZM180-180h160v-160H180v160Zm440 0h160v-160H620v160Z\"/>\n",
              "  </svg>\n",
              "    </button>\n",
              "\n",
              "  <style>\n",
              "    .colab-df-container {\n",
              "      display:flex;\n",
              "      gap: 12px;\n",
              "    }\n",
              "\n",
              "    .colab-df-convert {\n",
              "      background-color: #E8F0FE;\n",
              "      border: none;\n",
              "      border-radius: 50%;\n",
              "      cursor: pointer;\n",
              "      display: none;\n",
              "      fill: #1967D2;\n",
              "      height: 32px;\n",
              "      padding: 0 0 0 0;\n",
              "      width: 32px;\n",
              "    }\n",
              "\n",
              "    .colab-df-convert:hover {\n",
              "      background-color: #E2EBFA;\n",
              "      box-shadow: 0px 1px 2px rgba(60, 64, 67, 0.3), 0px 1px 3px 1px rgba(60, 64, 67, 0.15);\n",
              "      fill: #174EA6;\n",
              "    }\n",
              "\n",
              "    .colab-df-buttons div {\n",
              "      margin-bottom: 4px;\n",
              "    }\n",
              "\n",
              "    [theme=dark] .colab-df-convert {\n",
              "      background-color: #3B4455;\n",
              "      fill: #D2E3FC;\n",
              "    }\n",
              "\n",
              "    [theme=dark] .colab-df-convert:hover {\n",
              "      background-color: #434B5C;\n",
              "      box-shadow: 0px 1px 3px 1px rgba(0, 0, 0, 0.15);\n",
              "      filter: drop-shadow(0px 1px 2px rgba(0, 0, 0, 0.3));\n",
              "      fill: #FFFFFF;\n",
              "    }\n",
              "  </style>\n",
              "\n",
              "    <script>\n",
              "      const buttonEl =\n",
              "        document.querySelector('#df-0c77140f-68b8-43cb-b2c0-d2de883c7ae5 button.colab-df-convert');\n",
              "      buttonEl.style.display =\n",
              "        google.colab.kernel.accessAllowed ? 'block' : 'none';\n",
              "\n",
              "      async function convertToInteractive(key) {\n",
              "        const element = document.querySelector('#df-0c77140f-68b8-43cb-b2c0-d2de883c7ae5');\n",
              "        const dataTable =\n",
              "          await google.colab.kernel.invokeFunction('convertToInteractive',\n",
              "                                                    [key], {});\n",
              "        if (!dataTable) return;\n",
              "\n",
              "        const docLinkHtml = 'Like what you see? Visit the ' +\n",
              "          '<a target=\"_blank\" href=https://colab.research.google.com/notebooks/data_table.ipynb>data table notebook</a>'\n",
              "          + ' to learn more about interactive tables.';\n",
              "        element.innerHTML = '';\n",
              "        dataTable['output_type'] = 'display_data';\n",
              "        await google.colab.output.renderOutput(dataTable, element);\n",
              "        const docLink = document.createElement('div');\n",
              "        docLink.innerHTML = docLinkHtml;\n",
              "        element.appendChild(docLink);\n",
              "      }\n",
              "    </script>\n",
              "  </div>\n",
              "\n",
              "\n",
              "<div id=\"df-f2976620-3c4d-4254-aa1c-1a92eef3d474\">\n",
              "  <button class=\"colab-df-quickchart\" onclick=\"quickchart('df-f2976620-3c4d-4254-aa1c-1a92eef3d474')\"\n",
              "            title=\"Suggest charts\"\n",
              "            style=\"display:none;\">\n",
              "\n",
              "<svg xmlns=\"http://www.w3.org/2000/svg\" height=\"24px\"viewBox=\"0 0 24 24\"\n",
              "     width=\"24px\">\n",
              "    <g>\n",
              "        <path d=\"M19 3H5c-1.1 0-2 .9-2 2v14c0 1.1.9 2 2 2h14c1.1 0 2-.9 2-2V5c0-1.1-.9-2-2-2zM9 17H7v-7h2v7zm4 0h-2V7h2v10zm4 0h-2v-4h2v4z\"/>\n",
              "    </g>\n",
              "</svg>\n",
              "  </button>\n",
              "\n",
              "<style>\n",
              "  .colab-df-quickchart {\n",
              "      --bg-color: #E8F0FE;\n",
              "      --fill-color: #1967D2;\n",
              "      --hover-bg-color: #E2EBFA;\n",
              "      --hover-fill-color: #174EA6;\n",
              "      --disabled-fill-color: #AAA;\n",
              "      --disabled-bg-color: #DDD;\n",
              "  }\n",
              "\n",
              "  [theme=dark] .colab-df-quickchart {\n",
              "      --bg-color: #3B4455;\n",
              "      --fill-color: #D2E3FC;\n",
              "      --hover-bg-color: #434B5C;\n",
              "      --hover-fill-color: #FFFFFF;\n",
              "      --disabled-bg-color: #3B4455;\n",
              "      --disabled-fill-color: #666;\n",
              "  }\n",
              "\n",
              "  .colab-df-quickchart {\n",
              "    background-color: var(--bg-color);\n",
              "    border: none;\n",
              "    border-radius: 50%;\n",
              "    cursor: pointer;\n",
              "    display: none;\n",
              "    fill: var(--fill-color);\n",
              "    height: 32px;\n",
              "    padding: 0;\n",
              "    width: 32px;\n",
              "  }\n",
              "\n",
              "  .colab-df-quickchart:hover {\n",
              "    background-color: var(--hover-bg-color);\n",
              "    box-shadow: 0 1px 2px rgba(60, 64, 67, 0.3), 0 1px 3px 1px rgba(60, 64, 67, 0.15);\n",
              "    fill: var(--button-hover-fill-color);\n",
              "  }\n",
              "\n",
              "  .colab-df-quickchart-complete:disabled,\n",
              "  .colab-df-quickchart-complete:disabled:hover {\n",
              "    background-color: var(--disabled-bg-color);\n",
              "    fill: var(--disabled-fill-color);\n",
              "    box-shadow: none;\n",
              "  }\n",
              "\n",
              "  .colab-df-spinner {\n",
              "    border: 2px solid var(--fill-color);\n",
              "    border-color: transparent;\n",
              "    border-bottom-color: var(--fill-color);\n",
              "    animation:\n",
              "      spin 1s steps(1) infinite;\n",
              "  }\n",
              "\n",
              "  @keyframes spin {\n",
              "    0% {\n",
              "      border-color: transparent;\n",
              "      border-bottom-color: var(--fill-color);\n",
              "      border-left-color: var(--fill-color);\n",
              "    }\n",
              "    20% {\n",
              "      border-color: transparent;\n",
              "      border-left-color: var(--fill-color);\n",
              "      border-top-color: var(--fill-color);\n",
              "    }\n",
              "    30% {\n",
              "      border-color: transparent;\n",
              "      border-left-color: var(--fill-color);\n",
              "      border-top-color: var(--fill-color);\n",
              "      border-right-color: var(--fill-color);\n",
              "    }\n",
              "    40% {\n",
              "      border-color: transparent;\n",
              "      border-right-color: var(--fill-color);\n",
              "      border-top-color: var(--fill-color);\n",
              "    }\n",
              "    60% {\n",
              "      border-color: transparent;\n",
              "      border-right-color: var(--fill-color);\n",
              "    }\n",
              "    80% {\n",
              "      border-color: transparent;\n",
              "      border-right-color: var(--fill-color);\n",
              "      border-bottom-color: var(--fill-color);\n",
              "    }\n",
              "    90% {\n",
              "      border-color: transparent;\n",
              "      border-bottom-color: var(--fill-color);\n",
              "    }\n",
              "  }\n",
              "</style>\n",
              "\n",
              "  <script>\n",
              "    async function quickchart(key) {\n",
              "      const quickchartButtonEl =\n",
              "        document.querySelector('#' + key + ' button');\n",
              "      quickchartButtonEl.disabled = true;  // To prevent multiple clicks.\n",
              "      quickchartButtonEl.classList.add('colab-df-spinner');\n",
              "      try {\n",
              "        const charts = await google.colab.kernel.invokeFunction(\n",
              "            'suggestCharts', [key], {});\n",
              "      } catch (error) {\n",
              "        console.error('Error during call to suggestCharts:', error);\n",
              "      }\n",
              "      quickchartButtonEl.classList.remove('colab-df-spinner');\n",
              "      quickchartButtonEl.classList.add('colab-df-quickchart-complete');\n",
              "    }\n",
              "    (() => {\n",
              "      let quickchartButtonEl =\n",
              "        document.querySelector('#df-f2976620-3c4d-4254-aa1c-1a92eef3d474 button');\n",
              "      quickchartButtonEl.style.display =\n",
              "        google.colab.kernel.accessAllowed ? 'block' : 'none';\n",
              "    })();\n",
              "  </script>\n",
              "</div>\n",
              "\n",
              "    </div>\n",
              "  </div>\n"
            ],
            "application/vnd.google.colaboratory.intrinsic+json": {
              "type": "dataframe",
              "variable_name": "df"
            }
          },
          "metadata": {},
          "execution_count": 6
        }
      ]
    },
    {
      "cell_type": "code",
      "source": [
        "import pandas as pd\n",
        "\n",
        "# List of file paths\n",
        "file_paths = [\n",
        "    \"/content/AMAZON_FASHION_5.csv\",\n",
        "    \"/content/socialmedia-disaster-tweets-DFE.csv\",\n",
        "    \"/content/Instagram - Posts.csv\",\n",
        "    \"/content/Instagram - Reels.csv\",\n",
        "    \"/content/sentimentdataset.csv\",\n",
        "    \"/content/twitter_training.csv\",\n",
        "    \"/content/Dataset.xlsx\",\n",
        "    \"/content/Twitter+data+in+sheets.xlsx\"\n",
        "]\n",
        "\n",
        "# Initialize an empty list to store DataFrames\n",
        "dfs = []\n",
        "\n",
        "# Function to find the best text column dynamically\n",
        "def get_text_column(df):\n",
        "    possible_columns = [\"text\", \"reviewText\", \"comment\", \"feedback\", \"message\", \"content\", \"post\"]\n",
        "    for col in df.columns:\n",
        "        if any(keyword in col.lower() for keyword in possible_columns):\n",
        "            return col  # Return the first matching column\n",
        "    return None  # Return None if no matching column is found\n",
        "\n",
        "# Load CSV files\n",
        "for file in file_paths[:-2]:  # Exclude last two Excel files\n",
        "    try:\n",
        "        df = pd.read_csv(file, encoding=\"utf-8\")\n",
        "        text_col = get_text_column(df)\n",
        "        if text_col:\n",
        "            df = df[[text_col]].rename(columns={text_col: \"text\"})  # Standardize column name\n",
        "            dfs.append(df)\n",
        "    except Exception as e:\n",
        "        print(f\"Error loading {file}: {e}\")\n",
        "\n",
        "# Load Excel files\n",
        "for file in file_paths[-2:]:  # Last two files are Excel\n",
        "    try:\n",
        "        xls = pd.ExcelFile(file)\n",
        "        for sheet_name in xls.sheet_names:\n",
        "            df = pd.read_excel(xls, sheet_name=sheet_name)\n",
        "            text_col = get_text_column(df)\n",
        "            if text_col:\n",
        "                df = df[[text_col]].rename(columns={text_col: \"text\"})\n",
        "                dfs.append(df)\n",
        "    except Exception as e:\n",
        "        print(f\"Error loading {file}: {e}\")\n",
        "\n",
        "# Merge all DataFrames\n",
        "combined_df = pd.concat(dfs, ignore_index=True, sort=False)\n",
        "\n",
        "# Drop missing or empty text values\n",
        "combined_df = combined_df.dropna(subset=[\"text\"]).reset_index(drop=True)\n",
        "\n",
        "# Save the merged dataset\n",
        "output_path = \"/content/combined_sentiment_dataset.csv\"\n",
        "combined_df.to_csv(output_path, index=False, encoding=\"utf-8\")\n",
        "\n",
        "print(f\"Merged dataset saved as: {output_path}\")\n"
      ],
      "metadata": {
        "colab": {
          "base_uri": "https://localhost:8080/"
        },
        "id": "10zS1jtnVcCw",
        "outputId": "9b280786-7aa3-4b1b-a2f0-8358cb6aff4c"
      },
      "execution_count": 5,
      "outputs": [
        {
          "output_type": "stream",
          "name": "stdout",
          "text": [
            "Error loading /content/socialmedia-disaster-tweets-DFE.csv: 'utf-8' codec can't decode byte 0xcc in position 11: invalid continuation byte\n",
            "Merged dataset saved as: /content/combined_sentiment_dataset.csv\n"
          ]
        }
      ]
    },
    {
      "cell_type": "code",
      "source": [],
      "metadata": {
        "id": "jz_7SiMtXbTy"
      },
      "execution_count": null,
      "outputs": []
    }
  ]
}